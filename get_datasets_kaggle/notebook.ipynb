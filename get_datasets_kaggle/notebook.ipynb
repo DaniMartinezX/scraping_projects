{
 "cells": [
  {
   "cell_type": "markdown",
   "metadata": {},
   "source": [
    "> Instalación de dependencias"
   ]
  },
  {
   "cell_type": "code",
   "execution_count": null,
   "metadata": {},
   "outputs": [],
   "source": [
    "%conda install pip\n",
    "%conda install -c conda-forge selenium\n",
    "\n",
    "# Instalación del geckodriver\n",
    "%pip install webdriver_manager"
   ]
  },
  {
   "cell_type": "code",
   "execution_count": 11,
   "metadata": {},
   "outputs": [
    {
     "data": {
      "text/plain": [
       "'C:\\\\Users\\\\daniel.martinezcarre\\\\.wdm\\\\drivers\\\\geckodriver\\\\win64\\\\v0.34.0\\\\geckodriver.exe'"
      ]
     },
     "execution_count": 11,
     "metadata": {},
     "output_type": "execute_result"
    }
   ],
   "source": [
    "from webdriver_manager.firefox import GeckoDriverManager\n",
    "GeckoDriverManager().install()"
   ]
  },
  {
   "cell_type": "code",
   "execution_count": 12,
   "metadata": {},
   "outputs": [],
   "source": [
    "from selenium import webdriver\n",
    "from selenium.webdriver.common.by import By\n",
    "from selenium.webdriver.support.ui import WebDriverWait\n",
    "from selenium.webdriver.support import expected_conditions as EC\n",
    "from bs4 import BeautifulSoup\n",
    "import pandas as pd\n"
   ]
  },
  {
   "cell_type": "code",
   "execution_count": 24,
   "metadata": {},
   "outputs": [],
   "source": [
    "def esperar_carga_pagina(driver, url):\n",
    "    \"\"\"\n",
    "    Espera a que la página web se cargue completamente.\n",
    "\n",
    "    Args:\n",
    "        driver: El objeto del navegador web.\n",
    "        url: La URL de la página web que se quiere cargar.\n",
    "    \"\"\"\n",
    "    # Carga la página web\n",
    "    driver.get(url)\n",
    "\n",
    "    # Espera a que la página se cargue completamente\n",
    "    wait = WebDriverWait(driver, 10)\n",
    "    wait.until(lambda driver: driver.execute_script(\"return document.readyState\") == \"complete\")"
   ]
  },
  {
   "cell_type": "code",
   "execution_count": 25,
   "metadata": {},
   "outputs": [],
   "source": [
    "driver = webdriver.Firefox()\n",
    "URL = \"https://www.kaggle.com\"\n",
    "esperar_carga_pagina(driver, URL+\"/datasets\")"
   ]
  },
  {
   "cell_type": "markdown",
   "metadata": {},
   "source": [
    "### Filtrado \"All datasets\""
   ]
  },
  {
   "cell_type": "code",
   "execution_count": 26,
   "metadata": {},
   "outputs": [],
   "source": [
    "wait = WebDriverWait(driver, 10)\n",
    "btn_all = wait.until(EC.presence_of_element_located((By.XPATH, \"/html/body/main/div[1]/div/div[5]/div[2]/div[4]/div/div/div[2]/button[1]\")))\n",
    "btn_all.click()"
   ]
  },
  {
   "cell_type": "markdown",
   "metadata": {},
   "source": [
    "- Nombre del dataset (/html/body/main/div[1]/div/div[5]/div[2]/div/div[2]/div/div[2]/div[2]/div[1]/h1)\n",
    "- URL\n",
    "- Descripción (/html/body/main/div[1]/div/div[5]/div[2]/div/div[2]/div/div[2]/div[2]/div[1]/span)\n",
    "- Autor (/html/body/main/div[1]/div/div[5]/div[2]/div/div[2]/div/div[2]/div[1]/span/span[1]/span)\n",
    "- Votos (/html/body/main/div[1]/div/div[5]/div[2]/div/div[2]/div/div[2]/div[1]/div/div[1]/button[2]) -> el texto\n",
    "- Tamaño (/html/body/main/div[1]/div/div[5]/div[2]/div/div[2]/div/div[2]/div[1]/div/div[2]/div[1]/a/button/span) \n",
    "- Etiquetas (//*[@id=\"combo-tags-menu-chipset\"]) -> El texto del span, del button, del a\n",
    "- Última actualización (/html/body/main/div[1]/div/div[5]/div[2]/div/div[2]/div/div[2]/div[1]/span/span[2]/span)\n",
    "- Frecuencia de actualización (/html/body/main/div[1]/div/div[5]/div[2]/div/div[2]/div/div[5]/div[1]/div[2]/p[3])\n",
    "- Usabilidad (/html/body/main/div[1]/div/div[5]/div[2]/div/div[2]/div/div[5]/div[1]/div[2]/p[1]/span)\n",
    "- Número de ficheros (/html/body/main/div[1]/div/div[5]/div[2]/div/div[2]/div/div[5]/div[4]/div/div/div[2]/div[2]/div[1]/div/p)\n",
    "- Número de columnas (/html/body/main/div[1]/div/div[5]/div[2]/div/div[2]/div/div[5]/div[4]/div/div/div[2]/div[2]/div[2]/div/p)\n",
    "- Licencia (/html/body/main/div[1]/div/div[5]/div[2]/div/div[2]/div/div[5]/div[1]/div[2]/p[2]/p)\n",
    "- Número de vistas (/html/body/main/div[1]/div/div[5]/div[2]/div/div[2]/div/div[5]/div[6]/div[2]/div[1]/div[2]/div[2]/h5)\n",
    "- Número de descargas (/html/body/main/div[1]/div/div[5]/div[2]/div/div[2]/div/div[5]/div[6]/div[2]/div[2]/div[2]/div[2]/h5)"
   ]
  },
  {
   "cell_type": "code",
   "execution_count": 15,
   "metadata": {},
   "outputs": [],
   "source": [
    "# driver.quit()"
   ]
  }
 ],
 "metadata": {
  "kernelspec": {
   "display_name": "scraping-projects",
   "language": "python",
   "name": "python3"
  },
  "language_info": {
   "codemirror_mode": {
    "name": "ipython",
    "version": 3
   },
   "file_extension": ".py",
   "mimetype": "text/x-python",
   "name": "python",
   "nbconvert_exporter": "python",
   "pygments_lexer": "ipython3",
   "version": "3.8.18"
  }
 },
 "nbformat": 4,
 "nbformat_minor": 2
}
