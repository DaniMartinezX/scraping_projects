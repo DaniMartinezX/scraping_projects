{
 "cells": [
  {
   "cell_type": "markdown",
   "metadata": {},
   "source": [
    "> Instalación de dependencias"
   ]
  },
  {
   "cell_type": "code",
   "execution_count": null,
   "metadata": {},
   "outputs": [],
   "source": [
    "%conda install pip\n",
    "%conda install -c conda-forge selenium\n",
    "\n",
    "# Instalación del geckodriver\n",
    "%pip install webdriver_manager"
   ]
  },
  {
   "cell_type": "code",
   "execution_count": 13,
   "metadata": {},
   "outputs": [
    {
     "data": {
      "text/plain": [
       "'C:\\\\Users\\\\danid\\\\.wdm\\\\drivers\\\\geckodriver\\\\win64\\\\v0.34.0\\\\geckodriver.exe'"
      ]
     },
     "execution_count": 13,
     "metadata": {},
     "output_type": "execute_result"
    }
   ],
   "source": [
    "from webdriver_manager.firefox import GeckoDriverManager\n",
    "GeckoDriverManager().install()"
   ]
  },
  {
   "cell_type": "code",
   "execution_count": 43,
   "metadata": {},
   "outputs": [],
   "source": [
    "from selenium import webdriver\n",
    "from selenium.webdriver.common.by import By\n",
    "from selenium.webdriver.support.ui import WebDriverWait\n",
    "from selenium.webdriver.support import expected_conditions as EC\n",
    "from bs4 import BeautifulSoup\n",
    "import pandas as pd\n",
    "import requests\n"
   ]
  },
  {
   "cell_type": "code",
   "execution_count": 15,
   "metadata": {},
   "outputs": [],
   "source": [
    "def esperar_carga_pagina(driver, url):\n",
    "    \"\"\"\n",
    "    Espera a que la página web se cargue completamente.\n",
    "\n",
    "    Args:\n",
    "        driver: El objeto del navegador web.\n",
    "        url: La URL de la página web que se quiere cargar.\n",
    "    \"\"\"\n",
    "    # Carga la página web\n",
    "    driver.get(url)\n",
    "\n",
    "    # Espera a que la página se cargue completamente\n",
    "    wait = WebDriverWait(driver, 10)\n",
    "    wait.until(lambda driver: driver.execute_script(\"return document.readyState\") == \"complete\")"
   ]
  },
  {
   "cell_type": "code",
   "execution_count": 36,
   "metadata": {},
   "outputs": [],
   "source": [
    "driver = webdriver.Firefox()\n",
    "URL = \"https://www.kaggle.com\"\n",
    "esperar_carga_pagina(driver, URL+\"/datasets\")"
   ]
  },
  {
   "cell_type": "markdown",
   "metadata": {},
   "source": [
    "### Filtrado \"All datasets\""
   ]
  },
  {
   "cell_type": "code",
   "execution_count": 37,
   "metadata": {},
   "outputs": [],
   "source": [
    "wait = WebDriverWait(driver, 10)\n",
    "btn_all = wait.until(EC.presence_of_element_located((By.XPATH, \"/html/body/main/div[1]/div/div[5]/div[2]/div[4]/div/div/div[2]/button[1]\")))\n",
    "btn_all.click()"
   ]
  },
  {
   "cell_type": "markdown",
   "metadata": {},
   "source": [
    "### Sacar enlaces de datasets de una página"
   ]
  },
  {
   "cell_type": "code",
   "execution_count": 34,
   "metadata": {},
   "outputs": [],
   "source": [
    "def get_links_datasets_page():\n",
    "    urls = []\n",
    "    lis = driver.find_elements(By.XPATH, './/ul[@class=\"km-list km-list--three-line\"]/li')\n",
    "    for i in lis:\n",
    "        enlace = i.find_element(By.XPATH, './div/a').get_attribute(\"href\")\n",
    "        urls.append(enlace)\n",
    "    return urls\n",
    "links_datasets = get_links_datasets_page()"
   ]
  },
  {
   "cell_type": "markdown",
   "metadata": {},
   "source": [
    "### Función para pasar de página"
   ]
  },
  {
   "cell_type": "code",
   "execution_count": null,
   "metadata": {},
   "outputs": [],
   "source": [
    "# def next_page():\n",
    "    "
   ]
  },
  {
   "cell_type": "markdown",
   "metadata": {},
   "source": [
    "- Nombre del dataset*\n",
    "- URL*\n",
    "- Descripción* \n",
    "- Autor* \n",
    "- Votos* \n",
    "- Tamaño* \n",
    "- Etiquetas (//*[@id=\"combo-tags-menu-chipset\"]) -> El texto del span, del button, del a\n",
    "- Frecuencia de actualización (/html/body/main/div[1]/div/div[5]/div[2]/div/div[2]/div/div[5]/div[1]/div[2]/p[3])\n",
    "- Usabilidad (/html/body/main/div[1]/div/div[5]/div[2]/div/div[2]/div/div[5]/div[1]/div[2]/p[1]/span)\n",
    "- Número de ficheros (/html/body/main/div[1]/div/div[5]/div[2]/div/div[2]/div/div[5]/div[4]/div/div/div[2]/div[2]/div[1]/div/p)\n",
    "- Número de columnas (/html/body/main/div[1]/div/div[5]/div[2]/div/div[2]/div/div[5]/div[4]/div/div/div[2]/div[2]/div[2]/div/p)\n",
    "- Licencia (/html/body/main/div[1]/div/div[5]/div[2]/div/div[2]/div/div[5]/div[1]/div[2]/p[2]/p)\n",
    "- Número de vistas (/html/body/main/div[1]/div/div[5]/div[2]/div/div[2]/div/div[5]/div[6]/div[2]/div[1]/div[2]/div[2]/h5)\n",
    "- Número de descargas (/html/body/main/div[1]/div/div[5]/div[2]/div/div[2]/div/div[5]/div[6]/div[2]/div[2]/div[2]/div[2]/h5)"
   ]
  },
  {
   "cell_type": "code",
   "execution_count": 61,
   "metadata": {},
   "outputs": [
    {
     "name": "stdout",
     "output_type": "stream",
     "text": [
      "(88.05 MB)\n"
     ]
    }
   ],
   "source": [
    "def get_info_dataset(url):\n",
    "    row = {}\n",
    "    body = driver.execute_script(\"return document.body\")\n",
    "    source = body.get_attribute('innerHTML')\n",
    "    soup = BeautifulSoup(source, 'html.parser')\n",
    "    # NAME\n",
    "    name = soup.find(\"h1\", class_=\"sc-eTNRI sc-cMAQNS iudEzZ hVdeow\")\n",
    "    row[\"name\"] = name.text\n",
    "    # URL\n",
    "    row[\"url\"] = url\n",
    "    # DESCRIPTION\n",
    "    description = soup.find(\"span\", class_=\"sc-dmXWDj sc-bNSORF cLdaqZ cCQcWJ\")\n",
    "    row[\"description\"] = description.text\n",
    "    # AUTHOR\n",
    "    author = soup.find(\"span\", class_=\"sc-lnsjTu gQDhUC\")\n",
    "    row[\"author\"] = author.text\n",
    "    # VOTES\n",
    "    votes = soup.find(\"button\", class_=\"sc-hSWyVn sc-eFzpJt iJoZbm hPXpRk\")\n",
    "    row[\"votes\"] = votes.text\n",
    "    # SIZE\n",
    "    size = soup.find(\"span\", class_=\"sc-fmKFGs sc-htdKJd hXhfOa dxMHrx\")\n",
    "    row[\"size\"] = size.text\n",
    "    print(size.text)\n",
    "\n",
    "get_info_dataset(\"https://www.kaggle.com/datasets/syedanwarafridi/vehicle-sales-data\")\n"
   ]
  },
  {
   "cell_type": "markdown",
   "metadata": {},
   "source": [
    "### Iteración de datasets"
   ]
  },
  {
   "cell_type": "code",
   "execution_count": 41,
   "metadata": {},
   "outputs": [
    {
     "name": "stdout",
     "output_type": "stream",
     "text": [
      "https://www.kaggle.com/datasets/syedanwarafridi/vehicle-sales-data\n",
      "https://www.kaggle.com/datasets/zain280/car-dataset\n",
      "https://www.kaggle.com/datasets/tarunrm09/climate-change-indicators\n",
      "https://www.kaggle.com/datasets/mahad049/job-placement-dataset\n",
      "https://www.kaggle.com/datasets/yaminh/smartphone-sale-dataset\n",
      "https://www.kaggle.com/datasets/nbroad/gemma-rewrite-nbroad\n",
      "https://www.kaggle.com/datasets/arnavvvvv/netflix-movies-and-tv-shows\n",
      "https://www.kaggle.com/datasets/l3llff/banana\n",
      "https://www.kaggle.com/datasets/nelgiriyewithana/apple-quality\n",
      "https://www.kaggle.com/datasets/mikhail1681/walmart-sales\n",
      "https://www.kaggle.com/datasets/kanchana1990/spotifys-long-hits-2014-2024\n",
      "https://www.kaggle.com/datasets/nelgiriyewithana/emotions\n",
      "https://www.kaggle.com/datasets/arnavvvvv/anime-dataset\n",
      "https://www.kaggle.com/datasets/dansbecker/melbourne-housing-snapshot\n",
      "https://www.kaggle.com/datasets/xontoloyo/data-penjualan-zara\n",
      "https://www.kaggle.com/datasets/amitvkulkarni/impact-of-product-positioning-on-sales\n",
      "https://www.kaggle.com/datasets/iabhishekofficial/mobile-price-classification\n",
      "https://www.kaggle.com/datasets/datasnaek/youtube-new\n",
      "https://www.kaggle.com/datasets/zynicide/wine-reviews\n",
      "https://www.kaggle.com/datasets/raphaelmanayon/temperature-and-ice-cream-sales\n"
     ]
    }
   ],
   "source": [
    "info_datasets = []\n",
    "\n",
    "for link in links_datasets:\n",
    "    if isinstance(link,str):\n",
    "        # Open link in a new tab\n",
    "        driver.execute_script(f\"window.open('{link}', 'new_window')\")\n",
    "        # Change focus\n",
    "        driver.switch_to.window(driver.window_handles[-1])\n",
    "\n",
    "        # Waiting until the page is completly load\n",
    "        WebDriverWait(driver,4).until(\n",
    "        EC.presence_of_element_located((By.CSS_SELECTOR, \".sc-eWgzEr\")))\n",
    "\n",
    "        print(link)\n",
    "\n",
    "        driver.close()\n",
    "\n",
    "        # Changing focus to the main tab\n",
    "        driver.switch_to.window(driver.window_handles[0])    "
   ]
  },
  {
   "cell_type": "code",
   "execution_count": null,
   "metadata": {},
   "outputs": [],
   "source": [
    "# driver.quit()"
   ]
  }
 ],
 "metadata": {
  "kernelspec": {
   "display_name": "scraping-projects",
   "language": "python",
   "name": "python3"
  },
  "language_info": {
   "codemirror_mode": {
    "name": "ipython",
    "version": 3
   },
   "file_extension": ".py",
   "mimetype": "text/x-python",
   "name": "python",
   "nbconvert_exporter": "python",
   "pygments_lexer": "ipython3",
   "version": "3.8.18"
  }
 },
 "nbformat": 4,
 "nbformat_minor": 2
}
